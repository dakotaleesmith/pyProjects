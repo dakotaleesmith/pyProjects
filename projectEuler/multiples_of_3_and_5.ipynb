{
 "cells": [
  {
   "cell_type": "code",
   "execution_count": 6,
   "metadata": {},
   "outputs": [],
   "source": [
    "def boolean_multiple(multiple: int, num: int) -> bool:\n",
    "    if num % multiple == 0:\n",
    "        return True\n",
    "    else:\n",
    "        return False"
   ]
  },
  {
   "cell_type": "code",
   "execution_count": 13,
   "metadata": {},
   "outputs": [
    {
     "name": "stdout",
     "output_type": "stream",
     "text": [
      "233168\n"
     ]
    }
   ],
   "source": [
    "multiples = [num for num in range(0, 1000) if boolean_multiple(3, num) | boolean_multiple(5, num)]\n",
    "answer = sum(multiples)\n",
    "print(answer)"
   ]
  }
 ],
 "metadata": {
  "kernelspec": {
   "display_name": "Python 3.10.4 64-bit ('3.10.4')",
   "language": "python",
   "name": "python3"
  },
  "language_info": {
   "codemirror_mode": {
    "name": "ipython",
    "version": 3
   },
   "file_extension": ".py",
   "mimetype": "text/x-python",
   "name": "python",
   "nbconvert_exporter": "python",
   "pygments_lexer": "ipython3",
   "version": "3.10.4"
  },
  "orig_nbformat": 4,
  "vscode": {
   "interpreter": {
    "hash": "9771acbb9c3abf2f820833e305c0e57f8b2cb5e673bc8ae043730efcf5b7e481"
   }
  }
 },
 "nbformat": 4,
 "nbformat_minor": 2
}
